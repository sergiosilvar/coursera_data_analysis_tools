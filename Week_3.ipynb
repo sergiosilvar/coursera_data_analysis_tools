{
 "cells": [
  {
   "cell_type": "markdown",
   "metadata": {},
   "source": [
    "# Week 3 Assignment: Generating a Correlation Coefficient\n",
    "\n",
    "In this [assignment](https://www.coursera.org/learn/data-analysis-tools/peer/te8hb/generating-a-correlation-coefficient) I've chosen the [Gapminder](./data/gapminder.csv) dataset. Looking through its [codebook](./data/GapMinderCodebook.pdf) we've decided to study two numeric variables, incomeperperson and lifeexpectancy relationship:\n",
    "\n",
    "\n",
    "- incomeperperson\n",
    "\n",
    "> 2010 Gross Domestic Product per capita in constant 2000 US$. The World Bank Work Development inflation but not the differences in the cost of living between countries Indicators\n",
    "has been taken into account.\n",
    "\n",
    "\n",
    "\n",
    "- lifeexpectancy\n",
    "\n",
    "> 2011 life expectancy at birth (years). The average number of years a newborn child would live if current mortality patterns were to stay the same.\n"
   ]
  },
  {
   "cell_type": "code",
   "execution_count": 1,
   "metadata": {
    "collapsed": false
   },
   "outputs": [
    {
     "name": "stdout",
     "output_type": "stream",
     "text": [
      "Populating the interactive namespace from numpy and matplotlib\n"
     ]
    }
   ],
   "source": [
    "# Import all ploting and scientific library,\n",
    "# and embed figures in this file.\n",
    "%pylab inline\n",
    "\n",
    "# Package to manipulate dataframes.\n",
    "import pandas as pd\n",
    "\n",
    "# Nice looking plot functions.\n",
    "import seaborn as sn\n",
    "\n",
    "# The Pearson correlation function.\n",
    "from scipy.stats import pearsonr\n",
    "\n",
    "# Read the dataset.\n",
    "df = pd.read_csv('data/gapminder.csv')\n",
    "\n",
    "# Set the country name as the index of the dataframe.\n",
    "df.index = df.country\n",
    "\n",
    "# This column is no longer needed.\n",
    "del df['country']\n",
    "\n",
    "# Select only the variables we're interested.\n",
    "df = df[['lifeexpectancy','incomeperperson']]\n",
    "\n",
    "# Convert the types.\n",
    "df.lifeexpectancy = pd.to_numeric(df.lifeexpectancy, errors='coerce')\n",
    "df.incomeperperson = pd.to_numeric(df.incomeperperson, errors='coerce')\n",
    "\n",
    "# Remove missing values.\n",
    "df = df.dropna()"
   ]
  },
  {
   "cell_type": "markdown",
   "metadata": {},
   "source": [
    "## Pearson correlation $r$\n",
    "\n",
    "This is just straightfoward."
   ]
  },
  {
   "cell_type": "code",
   "execution_count": 2,
   "metadata": {
    "collapsed": false
   },
   "outputs": [],
   "source": [
    "r = pearsonr(df.incomeperperson, df.lifeexpectancy)"
   ]
  },
  {
   "cell_type": "code",
   "execution_count": 3,
   "metadata": {
    "collapsed": false
   },
   "outputs": [
    {
     "name": "stdout",
     "output_type": "stream",
     "text": [
      "Correlation between incomeperperson and lifeexpectancy: (0.60151634019643963, 1.0653418935026235e-18)\n"
     ]
    }
   ],
   "source": [
    "print('Correlation between incomeperperson and lifeexpectancy: {}'.format(r))"
   ]
  },
  {
   "cell_type": "code",
   "execution_count": 4,
   "metadata": {
    "collapsed": false
   },
   "outputs": [
    {
     "name": "stdout",
     "output_type": "stream",
     "text": [
      "Percentage of variability in the reponse variable given by the explanatory variable is 36.18%\n"
     ]
    }
   ],
   "source": [
    "print('Percentage of variability in the reponse variable given by the explanatory variable is {:2}%'.\n",
    "      format(round(r[0]**2*100,2)))"
   ]
  },
  {
   "cell_type": "markdown",
   "metadata": {},
   "source": [
    "As we can see above, $r = 0.60$ with $pvalue=1.06*10^{-18}$, shows a moderately strong correlation between life expectancy and income per person. Let's take a look at the scatter plot to see how this correlation is formed."
   ]
  },
  {
   "cell_type": "code",
   "execution_count": 5,
   "metadata": {
    "collapsed": false
   },
   "outputs": [
    {
     "name": "stderr",
     "output_type": "stream",
     "text": [
      "/Users/sergio/anaconda3/lib/python3.4/site-packages/matplotlib/collections.py:590: FutureWarning: elementwise comparison failed; returning scalar instead, but in the future will perform elementwise comparison\n",
      "  if self._edgecolors == str('face'):\n"
     ]
    },
    {
     "data": {
      "image/png": "[encoded data removed]",
      "text/plain": [
       "<matplotlib.figure.Figure at 0x103f5cbe0>"
      ]
     },
     "metadata": {},
     "output_type": "display_data"
    }
   ],
   "source": [
    "# Setting an apropriate size for the graph.\n",
    "factor = 1.3\n",
    "figsize(6*factor, 4*factor)\n",
    "\n",
    "# Plot the graph.\n",
    "sn.regplot(df.incomeperperson, df.lifeexpectancy);"
   ]
  },
  {
   "cell_type": "markdown",
   "metadata": {},
   "source": [
    "## Conclusion"
   ]
  },
  {
   "cell_type": "markdown",
   "metadata": {},
   "source": [
    "The scatter plot clearly shows a positive relationship between incomeperperson and lifeexpectancy but, as you can see, the association isn't as linear as expected. A lot of countries is stacked below 5000 income. Above this, the life expectancy keeps in its top values. This show us that the lifeexpectancy rises to a limit of around 80 years as the incomeperperson rises."
   ]
  },
  {
   "cell_type": "markdown",
   "metadata": {},
   "source": [
    "End of assignment."
   ]
  }
 ],
 "metadata": {
  "kernelspec": {
   "display_name": "Python 3",
   "language": "python",
   "name": "python3"
  },
  "language_info": {
   "codemirror_mode": {
    "name": "ipython",
    "version": 3
   },
   "file_extension": ".py",
   "mimetype": "text/x-python",
   "name": "python",
   "nbconvert_exporter": "python",
   "pygments_lexer": "ipython3",
   "version": "3.4.3"
  }
 },
 "nbformat": 4,
 "nbformat_minor": 0
}
