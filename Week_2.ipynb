{
 "cells": [
  {
   "cell_type": "markdown",
   "metadata": {},
   "source": [
    "#Table of Contents\n",
    "* [1. Week 2 Assignment: Running a Chi-Square Test of Independence](#1.-Week-2-Assignment:-Running-a-Chi-Square-Test-of-Independence)\n",
    "\t* [1.1 Descriptive analysis](#1.1-Descriptive-analysis)\n",
    "\t* [1.2 Create the categorical variables](#1.2-Create-the-categorical-variables)\n",
    "\t\t* [1.2.1 Variable `income_level`](#1.2.1-Variable-income_level)\n",
    "\t\t* [1.2.2 Variable `lifeexpectancy_level`](#1.2.2-Variable-lifeexpectancy_level)\n",
    "\t* [1.3 Cross tabulation of the categorical variables](#1.3-Cross-tabulation-of-the-categorical-variables)\n",
    "\t* [1.4 Perform the Chi-squared ($Xˆ2$) test](#1.4-Perform-the-Chi-squared-%28$Xˆ2$%29-test)\n",
    "\t* [1.5 Post hoc test](#1.5-Post-hoc-test)\n",
    "\t\t* [1.5.1 $X^2$ test for \"Low life expct\" vs \"Medium life expct\"](#1.5.1-$X^2$-test-for-\"Low-life-expct\"-vs-\"Medium-life-expct\")\n",
    "\t\t* [1.5.2 $X^2$ test for \"Low income\" vs \"High income\"](#1.5.2-$X^2$-test-for-\"Low-income\"-vs-\"High-income\")\n",
    "\t\t* [1.5.3 $X^2$ test for \"Medium income\" vs \"High income\"](#1.5.3-$X^2$-test-for-\"Medium-income\"-vs-\"High-income\")\n",
    "\t* [1.6 Conclusion](#1.6-Conclusion)\n"
   ]
  },
  {
   "cell_type": "markdown",
   "metadata": {},
   "source": [
    "# 1. Week 2 Assignment: Running a Chi-Square Test of Independence"
   ]
  },
  {
   "cell_type": "markdown",
   "metadata": {},
   "source": [
    "In this [assignment](https://www.coursera.org/learn/data-analysis-tools/peer/1QGTx/running-a-chi-square-test-of-independence) I've chosen the [Gapminder](./data/gapminder.csv) dataset. Looking through its [codebook](./data/GapMinderCodebook.pdf) we've decided to study two variables, incomeperperson and lifeexpectancy relationship:\n",
    "\n",
    "\n",
    "- incomeperperson\n",
    "\n",
    "> 2010 Gross Domestic Product per capita in constant 2000 US$. The World Bank Work Development inflation but not the differences in the cost of living between countries Indicators\n",
    "has been taken into account.\n",
    "\n",
    "\n",
    "\n",
    "- lifeexpectancy\n",
    "\n",
    "> 2011 life expectancy at birth (years). The average number of years a newborn child would live if current mortality patterns were to stay the same.\n",
    "\n",
    "In ordr to met the assignment requirements, we'll transform these numeric variables into categorical. The `incomeperperson` will be categorized using the [US poverty threshold](http://www.irp.wisc.edu/faqs/faq1.htm) as a guideline to divide this variable as those countries below the US threshold, those near and those equal or above. The `lifeexpectancy` variable will be categorized in the same way: those countries below USA life expectancy and those equal or above. We'll take USA out of the dataset as it was used as the baseline comparison.\n",
    "\n",
    "The null hypothesis $H_o$ is that the life expectancy is independent of the income per capita. The alternative  hypothesis $H_a$ is that life expectancy is related to income."
   ]
  },
  {
   "cell_type": "code",
   "execution_count": 1,
   "metadata": {
    "collapsed": false
   },
   "outputs": [
    {
     "name": "stdout",
     "output_type": "stream",
     "text": [
      "Populating the interactive namespace from numpy and matplotlib\n"
     ]
    },
    {
     "name": "stderr",
     "output_type": "stream",
     "text": [
      "/Users/sergio/anaconda3/lib/python3.4/site-packages/IPython/kernel/__main__.py:29: FutureWarning: convert_objects is deprecated.  Use the data-type specific converters pd.to_datetime, pd.to_timedelta and pd.to_numeric.\n"
     ]
    }
   ],
   "source": [
    "# Import all ploting and scientific library,\n",
    "# and embed figures in this file.\n",
    "%pylab inline\n",
    "\n",
    "# Package to manipulate dataframes.\n",
    "import pandas as pd\n",
    "\n",
    "# Nice looking plot functions.\n",
    "import seaborn as sn\n",
    "\n",
    "# The Chi-squared test function.\n",
    "from scipy.stats import chi2_contingency\n",
    "\n",
    "# Read the dataset.\n",
    "df = pd.read_csv('data/gapminder.csv')\n",
    "\n",
    "# Set the country name as the index of the dataframe.\n",
    "df.index = df.country\n",
    "\n",
    "# This column is no longer needed.\n",
    "#del df['country']\n",
    "\n",
    "# Select only the variables we're interested.\n",
    "df = df[['lifeexpectancy','incomeperperson']]\n",
    "\n",
    "# Convert the types properly.\n",
    "#df.incomeperperson = pd.to_numeric(df.incomeperperson, errors='coerce')\n",
    "#df.lifeexpectancy = pd.to_numeric(df.lifeexpectancy, errors='coerce')\n",
    "df = df.convert_objects(convert_numeric=True)\n",
    "\n",
    "# Remove missing values.\n",
    "df = df.dropna()\n",
    "\n",
    "# Save the life expectancy threshold for later use.\n",
    "lifeexpectancy_threshold = df.loc['United States', 'lifeexpectancy']\n",
    "\n",
    "# Finally, remove the USA from the dataset.\n",
    "df.drop('United States', inplace=True)\n",
    "\n",
    "\n"
   ]
  },
  {
   "cell_type": "markdown",
   "metadata": {},
   "source": [
    "## 1.1 Descriptive analysis"
   ]
  },
  {
   "cell_type": "markdown",
   "metadata": {},
   "source": [
    "Let's take a look at the variables."
   ]
  },
  {
   "cell_type": "code",
   "execution_count": 2,
   "metadata": {
    "collapsed": false
   },
   "outputs": [
    {
     "data": {
      "text/html": [
       "<div>\n",
       "<table border=\"1\" class=\"dataframe\">\n",
       "  <thead>\n",
       "    <tr style=\"text-align: right;\">\n",
       "      <th></th>\n",
       "      <th>lifeexpectancy</th>\n",
       "      <th>incomeperperson</th>\n",
       "    </tr>\n",
       "  </thead>\n",
       "  <tbody>\n",
       "    <tr>\n",
       "      <th>count</th>\n",
       "      <td>175.000000</td>\n",
       "      <td>175.000000</td>\n",
       "    </tr>\n",
       "    <tr>\n",
       "      <th>mean</th>\n",
       "      <td>69.604011</td>\n",
       "      <td>7155.080213</td>\n",
       "    </tr>\n",
       "    <tr>\n",
       "      <th>std</th>\n",
       "      <td>9.734076</td>\n",
       "      <td>10346.534469</td>\n",
       "    </tr>\n",
       "    <tr>\n",
       "      <th>min</th>\n",
       "      <td>47.794000</td>\n",
       "      <td>103.775857</td>\n",
       "    </tr>\n",
       "    <tr>\n",
       "      <th>25%</th>\n",
       "      <td>62.958000</td>\n",
       "      <td>691.093623</td>\n",
       "    </tr>\n",
       "    <tr>\n",
       "      <th>50%</th>\n",
       "      <td>73.126000</td>\n",
       "      <td>2344.896916</td>\n",
       "    </tr>\n",
       "    <tr>\n",
       "      <th>75%</th>\n",
       "      <td>76.337000</td>\n",
       "      <td>8165.497363</td>\n",
       "    </tr>\n",
       "    <tr>\n",
       "      <th>max</th>\n",
       "      <td>83.394000</td>\n",
       "      <td>52301.587179</td>\n",
       "    </tr>\n",
       "  </tbody>\n",
       "</table>\n",
       "</div>"
      ],
      "text/plain": [
       "       lifeexpectancy  incomeperperson\n",
       "count      175.000000       175.000000\n",
       "mean        69.604011      7155.080213\n",
       "std          9.734076     10346.534469\n",
       "min         47.794000       103.775857\n",
       "25%         62.958000       691.093623\n",
       "50%         73.126000      2344.896916\n",
       "75%         76.337000      8165.497363\n",
       "max         83.394000     52301.587179"
      ]
     },
     "execution_count": 2,
     "metadata": {},
     "output_type": "execute_result"
    }
   ],
   "source": [
    "df.describe()"
   ]
  },
  {
   "cell_type": "markdown",
   "metadata": {},
   "source": [
    "## 1.2 Create the categorical variables"
   ]
  },
  {
   "cell_type": "markdown",
   "metadata": {},
   "source": [
    "We'll create the categorical variable `income_level` based on USA poverty threshold and `lifeexpectancy_level` based on USA life expectancy."
   ]
  },
  {
   "cell_type": "markdown",
   "metadata": {},
   "source": [
    "### 1.2.1 Variable `income_level`"
   ]
  },
  {
   "cell_type": "markdown",
   "metadata": {},
   "source": [
    "This variable describe the level of income per capita perceived by a country. We'll categorize it in three values: \"Low income\", \"Medium income\" and \"High income\". \"Low income\" if the income per person is below that 70% of USA threshold of poverty, \"Medium income\" if between the later and the threshold (not included), and \"High income\" if equal of above the trheshold."
   ]
  },
  {
   "cell_type": "code",
   "execution_count": 3,
   "metadata": {
    "collapsed": true
   },
   "outputs": [],
   "source": [
    "# http://www.irp.wisc.edu/faqs/faq1.htm\n",
    "income_threshold= 11720\n",
    "income_level = pd.cut(df.incomeperperson, \n",
    "    [0,income_threshold*0.7, income_threshold, df.incomeperperson.max() ], \n",
    "    labels=['Low income', 'Medium income', 'High income'])\n"
   ]
  },
  {
   "cell_type": "code",
   "execution_count": 4,
   "metadata": {
    "collapsed": false
   },
   "outputs": [
    {
     "data": {
      "image/png": "[encoded data removed]",
      "text/plain": [
       "<matplotlib.figure.Figure at 0x103f5da20>"
      ]
     },
     "metadata": {},
     "output_type": "display_data"
    }
   ],
   "source": [
    "# Ghaph the new variable.\n",
    "il = income_level.value_counts()\n",
    "f, a = subplots()\n",
    "f.set_size_inches(6,3)\n",
    "sn.barplot(il.values, il.index.tolist(), ax=a);\n",
    "\n",
    "a.set_title('Number of countries by income_level', fontsize=14);\n",
    "yticks(fontsize=12),xticks(fontsize=12);"
   ]
  },
  {
   "cell_type": "markdown",
   "metadata": {},
   "source": [
    "### 1.2.2 Variable `lifeexpectancy_level`"
   ]
  },
  {
   "cell_type": "markdown",
   "metadata": {},
   "source": [
    "This variable describe the level of life exepctancy in a country. It can have two values: \"Low life expct\" and \"High life expct\". \"Low life expct\" if the life expectancy is belo the USA life expectancy presened in the same dataset, and \"High life expct\" otherwise."
   ]
  },
  {
   "cell_type": "code",
   "execution_count": 5,
   "metadata": {
    "collapsed": false
   },
   "outputs": [],
   "source": [
    "lifeexpectancy_level =  pd.cut(df.lifeexpectancy, \n",
    "                               [0, lifeexpectancy_threshold, df.lifeexpectancy.max()],\n",
    "                              labels=['Low life expct','High life expct'])"
   ]
  },
  {
   "cell_type": "code",
   "execution_count": 6,
   "metadata": {
    "collapsed": false
   },
   "outputs": [
    {
     "data": {
      "image/png": "[encoded data removed]",
      "text/plain": [
       "<matplotlib.figure.Figure at 0x108791160>"
      ]
     },
     "metadata": {},
     "output_type": "display_data"
    }
   ],
   "source": [
    "ll = lifeexpectancy_level.value_counts()\n",
    "f, a = subplots()\n",
    "f.set_size_inches(6,3)\n",
    "sn.barplot(ll.values, ll.index.tolist(), ax=a);\n",
    "\n",
    "a.set_title('Number of countries by lifeexpectancy_level', fontsize=14);\n",
    "yticks(fontsize=12),xticks(fontsize=12);"
   ]
  },
  {
   "cell_type": "markdown",
   "metadata": {},
   "source": [
    "Let's save the `income_level` and `lifeexpectancy_level` variables in our data frame. We must explicitly convert them to `object` because of an actual misunderstanding betwen `pandas` and `stastmodels` packages."
   ]
  },
  {
   "cell_type": "code",
   "execution_count": 7,
   "metadata": {
    "collapsed": false
   },
   "outputs": [],
   "source": [
    "import numpy as np\n",
    "df['income_level'] = income_level.astype(np.object)\n",
    "df['lifeexpectancy_level'] = lifeexpectancy_level.astype(np.object)"
   ]
  },
  {
   "cell_type": "markdown",
   "metadata": {},
   "source": [
    "## 1.3 Cross tabulation of the categorical variables"
   ]
  },
  {
   "cell_type": "markdown",
   "metadata": {},
   "source": [
    "Below we have the contigency table of the variables in this study."
   ]
  },
  {
   "cell_type": "code",
   "execution_count": 8,
   "metadata": {
    "collapsed": false
   },
   "outputs": [
    {
     "data": {
      "text/html": [
       "<div>\n",
       "<table border=\"1\" class=\"dataframe\">\n",
       "  <thead>\n",
       "    <tr style=\"text-align: right;\">\n",
       "      <th>income_level</th>\n",
       "      <th>High income</th>\n",
       "      <th>Medium income</th>\n",
       "      <th>Low income</th>\n",
       "    </tr>\n",
       "    <tr>\n",
       "      <th>lifeexpectancy_level</th>\n",
       "      <th></th>\n",
       "      <th></th>\n",
       "      <th></th>\n",
       "    </tr>\n",
       "  </thead>\n",
       "  <tbody>\n",
       "    <tr>\n",
       "      <th>High life expct</th>\n",
       "      <td>30</td>\n",
       "      <td>1</td>\n",
       "      <td>3</td>\n",
       "    </tr>\n",
       "    <tr>\n",
       "      <th>Low life expct</th>\n",
       "      <td>5</td>\n",
       "      <td>8</td>\n",
       "      <td>128</td>\n",
       "    </tr>\n",
       "  </tbody>\n",
       "</table>\n",
       "</div>"
      ],
      "text/plain": [
       "income_level          High income  Medium income  Low income\n",
       "lifeexpectancy_level                                        \n",
       "High life expct                30              1           3\n",
       "Low life expct                  5              8         128"
      ]
     },
     "execution_count": 8,
     "metadata": {},
     "output_type": "execute_result"
    }
   ],
   "source": [
    "# Numeric cross tabulation.\n",
    "xtab = pd.crosstab(df.lifeexpectancy_level, df.income_level)\n",
    "\n",
    "# Sort manually the columns.\n",
    "xtab = xtab[['High income', 'Medium income', 'Low income']]\n",
    "\n",
    "# Print to output.\n",
    "xtab"
   ]
  },
  {
   "cell_type": "code",
   "execution_count": 9,
   "metadata": {
    "collapsed": false
   },
   "outputs": [
    {
     "data": {
      "text/html": [
       "<div>\n",
       "<table border=\"1\" class=\"dataframe\">\n",
       "  <thead>\n",
       "    <tr style=\"text-align: right;\">\n",
       "      <th>income_level</th>\n",
       "      <th>High income</th>\n",
       "      <th>Medium income</th>\n",
       "      <th>Low income</th>\n",
       "    </tr>\n",
       "    <tr>\n",
       "      <th>lifeexpectancy_level</th>\n",
       "      <th></th>\n",
       "      <th></th>\n",
       "      <th></th>\n",
       "    </tr>\n",
       "  </thead>\n",
       "  <tbody>\n",
       "    <tr>\n",
       "      <th>High life expct</th>\n",
       "      <td>0.857143</td>\n",
       "      <td>0.111111</td>\n",
       "      <td>0.022901</td>\n",
       "    </tr>\n",
       "    <tr>\n",
       "      <th>Low life expct</th>\n",
       "      <td>0.142857</td>\n",
       "      <td>0.888889</td>\n",
       "      <td>0.977099</td>\n",
       "    </tr>\n",
       "  </tbody>\n",
       "</table>\n",
       "</div>"
      ],
      "text/plain": [
       "income_level          High income  Medium income  Low income\n",
       "lifeexpectancy_level                                        \n",
       "High life expct          0.857143       0.111111    0.022901\n",
       "Low life expct           0.142857       0.888889    0.977099"
      ]
     },
     "execution_count": 9,
     "metadata": {},
     "output_type": "execute_result"
    }
   ],
   "source": [
    "# Percentage cross tabulation\n",
    "xtabsum = xtab.sum(axis=0)\n",
    "xtabpct = xtab/xtabsum\n",
    "xtabpct"
   ]
  },
  {
   "cell_type": "markdown",
   "metadata": {},
   "source": [
    "In the next session, we'll see whether $H_o$ can be rejected or not."
   ]
  },
  {
   "cell_type": "markdown",
   "metadata": {},
   "source": [
    "## 1.4 Perform the Chi-squared ($Xˆ2$) test"
   ]
  },
  {
   "cell_type": "markdown",
   "metadata": {},
   "source": [
    "The $Xˆ2$ test will tell us whether the two variables are independent or not. For a 2x2 comparison, the $X^2$ value is large, $123.00$, and the `p-value` is really small, $1.95*10^{-27}$, thus, the life expectancy level and income level aren't independent, they're related."
   ]
  },
  {
   "cell_type": "code",
   "execution_count": 10,
   "metadata": {
    "collapsed": false
   },
   "outputs": [
    {
     "data": {
      "text/plain": [
       "(123.21793604742712,\n",
       " 1.752125263037061e-27,\n",
       " 2,\n",
       " array([[   6.8       ,    1.74857143,   25.45142857],\n",
       "        [  28.2       ,    7.25142857,  105.54857143]]))"
      ]
     },
     "execution_count": 10,
     "metadata": {},
     "output_type": "execute_result"
    }
   ],
   "source": [
    "x2 = chi2_contingency(xtab)\n",
    "x2"
   ]
  },
  {
   "cell_type": "code",
   "execution_count": 11,
   "metadata": {
    "collapsed": false
   },
   "outputs": [
    {
     "name": "stdout",
     "output_type": "stream",
     "text": [
      "Chi-squared: 1.23e+02\n",
      "P-value: 1.75e-27\n"
     ]
    }
   ],
   "source": [
    "print(\"Chi-squared: {:.3}\\nP-value: {:.3}\".format(x2[0], x2[1]))"
   ]
  },
  {
   "cell_type": "markdown",
   "metadata": {},
   "source": [
    "Our explanatory variable has 3 possible levels, and the $X^2$ does'nt give us insight into why the $H_o$ can be rejected. We do know the life expectancy varies across the income levels but to understand how, we'll have to conduct a post hoc test."
   ]
  },
  {
   "cell_type": "markdown",
   "metadata": {},
   "source": [
    "## 1.5 Post hoc test"
   ]
  },
  {
   "cell_type": "markdown",
   "metadata": {},
   "source": [
    "We'll use the [Bonferroni Adjustemnt](https://en.wikipedia.org/wiki/Bonferroni_correction) to control the family wise error rate. As our explanatory variable has 3 levels, we must adjust the p-value dividing the alpha significance $0.05$ level by $3$:"
   ]
  },
  {
   "cell_type": "code",
   "execution_count": 12,
   "metadata": {
    "collapsed": false,
    "scrolled": false
   },
   "outputs": [
    {
     "name": "stdout",
     "output_type": "stream",
     "text": [
      "The p-value adjusted is: 0.0167\n"
     ]
    }
   ],
   "source": [
    "# The p-value adjusted.\n",
    "pvalue_adj = 0.05/3.0\n",
    "print(\"The p-value adjusted is: {:.3}\".format(pvalue_adj))"
   ]
  },
  {
   "cell_type": "markdown",
   "metadata": {},
   "source": [
    "Now we have to perform paiwise $X^2$ tests."
   ]
  },
  {
   "cell_type": "markdown",
   "metadata": {},
   "source": [
    "### 1.5.1 $X^2$ test for \"Low life expct\" vs \"Medium life expct\""
   ]
  },
  {
   "cell_type": "code",
   "execution_count": 13,
   "metadata": {
    "collapsed": true
   },
   "outputs": [],
   "source": [
    "recode = {'Low income': 'Low income', 'Medium income':'Medium income'}\n",
    "df['income_LvM'] = df.income_level.map(recode)"
   ]
  },
  {
   "cell_type": "code",
   "execution_count": 14,
   "metadata": {
    "collapsed": false
   },
   "outputs": [
    {
     "data": {
      "text/html": [
       "<div>\n",
       "<table border=\"1\" class=\"dataframe\">\n",
       "  <thead>\n",
       "    <tr style=\"text-align: right;\">\n",
       "      <th>income_LvM</th>\n",
       "      <th>Low income</th>\n",
       "      <th>Medium income</th>\n",
       "    </tr>\n",
       "    <tr>\n",
       "      <th>lifeexpectancy_level</th>\n",
       "      <th></th>\n",
       "      <th></th>\n",
       "    </tr>\n",
       "  </thead>\n",
       "  <tbody>\n",
       "    <tr>\n",
       "      <th>High life expct</th>\n",
       "      <td>3</td>\n",
       "      <td>1</td>\n",
       "    </tr>\n",
       "    <tr>\n",
       "      <th>Low life expct</th>\n",
       "      <td>128</td>\n",
       "      <td>8</td>\n",
       "    </tr>\n",
       "  </tbody>\n",
       "</table>\n",
       "</div>"
      ],
      "text/plain": [
       "income_LvM            Low income  Medium income\n",
       "lifeexpectancy_level                           \n",
       "High life expct                3              1\n",
       "Low life expct               128              8"
      ]
     },
     "execution_count": 14,
     "metadata": {},
     "output_type": "execute_result"
    }
   ],
   "source": [
    "# Crosstab.\n",
    "xtab_LvM = pd.crosstab(df.lifeexpectancy_level, df.income_LvM)\n",
    "xtab_LvM"
   ]
  },
  {
   "cell_type": "code",
   "execution_count": 15,
   "metadata": {
    "collapsed": false
   },
   "outputs": [
    {
     "data": {
      "text/html": [
       "<div>\n",
       "<table border=\"1\" class=\"dataframe\">\n",
       "  <thead>\n",
       "    <tr style=\"text-align: right;\">\n",
       "      <th>income_LvM</th>\n",
       "      <th>Low income</th>\n",
       "      <th>Medium income</th>\n",
       "    </tr>\n",
       "    <tr>\n",
       "      <th>lifeexpectancy_level</th>\n",
       "      <th></th>\n",
       "      <th></th>\n",
       "    </tr>\n",
       "  </thead>\n",
       "  <tbody>\n",
       "    <tr>\n",
       "      <th>High life expct</th>\n",
       "      <td>0.022901</td>\n",
       "      <td>0.111111</td>\n",
       "    </tr>\n",
       "    <tr>\n",
       "      <th>Low life expct</th>\n",
       "      <td>0.977099</td>\n",
       "      <td>0.888889</td>\n",
       "    </tr>\n",
       "  </tbody>\n",
       "</table>\n",
       "</div>"
      ],
      "text/plain": [
       "income_LvM            Low income  Medium income\n",
       "lifeexpectancy_level                           \n",
       "High life expct         0.022901       0.111111\n",
       "Low life expct          0.977099       0.888889"
      ]
     },
     "execution_count": 15,
     "metadata": {},
     "output_type": "execute_result"
    }
   ],
   "source": [
    "# Percentage crosstab.\n",
    "xtab_LvM/xtab_LvM.sum(axis=0)"
   ]
  },
  {
   "cell_type": "code",
   "execution_count": 16,
   "metadata": {
    "collapsed": false
   },
   "outputs": [
    {
     "name": "stdout",
     "output_type": "stream",
     "text": [
      "Chi-squared: 0.252\n",
      "P-value: 0.615\n",
      "P-value ajd: 0.0167\n"
     ]
    }
   ],
   "source": [
    "# Run the chi-square test.\n",
    "x2_LvM = chi2_contingency(xtab_LvM)\n",
    "\n",
    "# Print the results.\n",
    "print(\"Chi-squared: {:.3}\\nP-value: {:.3}\\nP-value ajd: {:.3}\".format(x2_LvM[0], x2_LvM[1], pvalue_adj))"
   ]
  },
  {
   "cell_type": "markdown",
   "metadata": {},
   "source": [
    "As you can see above, the $X^2$ is not large, and the `p-value` is greater than the `adjusted p-value`. So, we can't reject $H_o$ and state that life expectancy doesn't differ significantly between \"Low income\" and \"Medium income\" countries."
   ]
  },
  {
   "cell_type": "markdown",
   "metadata": {},
   "source": [
    "### 1.5.2 $X^2$ test for \"Low income\" vs \"High income\""
   ]
  },
  {
   "cell_type": "code",
   "execution_count": 17,
   "metadata": {
    "collapsed": true
   },
   "outputs": [],
   "source": [
    "recode = {'Low income': 'Low income', 'High income':'High income'}\n",
    "df['income_LvH'] = df.income_level.map(recode)"
   ]
  },
  {
   "cell_type": "code",
   "execution_count": 18,
   "metadata": {
    "collapsed": false
   },
   "outputs": [
    {
     "data": {
      "text/html": [
       "<div>\n",
       "<table border=\"1\" class=\"dataframe\">\n",
       "  <thead>\n",
       "    <tr style=\"text-align: right;\">\n",
       "      <th>income_LvH</th>\n",
       "      <th>High income</th>\n",
       "      <th>Low income</th>\n",
       "    </tr>\n",
       "    <tr>\n",
       "      <th>lifeexpectancy_level</th>\n",
       "      <th></th>\n",
       "      <th></th>\n",
       "    </tr>\n",
       "  </thead>\n",
       "  <tbody>\n",
       "    <tr>\n",
       "      <th>High life expct</th>\n",
       "      <td>30</td>\n",
       "      <td>3</td>\n",
       "    </tr>\n",
       "    <tr>\n",
       "      <th>Low life expct</th>\n",
       "      <td>5</td>\n",
       "      <td>128</td>\n",
       "    </tr>\n",
       "  </tbody>\n",
       "</table>\n",
       "</div>"
      ],
      "text/plain": [
       "income_LvH            High income  Low income\n",
       "lifeexpectancy_level                         \n",
       "High life expct                30           3\n",
       "Low life expct                  5         128"
      ]
     },
     "execution_count": 18,
     "metadata": {},
     "output_type": "execute_result"
    }
   ],
   "source": [
    "# Crosstab.\n",
    "xtab_LvH = pd.crosstab(df.lifeexpectancy_level, df.income_LvH)\n",
    "xtab_LvH"
   ]
  },
  {
   "cell_type": "code",
   "execution_count": 19,
   "metadata": {
    "collapsed": false
   },
   "outputs": [
    {
     "data": {
      "text/html": [
       "<div>\n",
       "<table border=\"1\" class=\"dataframe\">\n",
       "  <thead>\n",
       "    <tr style=\"text-align: right;\">\n",
       "      <th>income_LvH</th>\n",
       "      <th>High income</th>\n",
       "      <th>Low income</th>\n",
       "    </tr>\n",
       "    <tr>\n",
       "      <th>lifeexpectancy_level</th>\n",
       "      <th></th>\n",
       "      <th></th>\n",
       "    </tr>\n",
       "  </thead>\n",
       "  <tbody>\n",
       "    <tr>\n",
       "      <th>High life expct</th>\n",
       "      <td>0.857143</td>\n",
       "      <td>0.022901</td>\n",
       "    </tr>\n",
       "    <tr>\n",
       "      <th>Low life expct</th>\n",
       "      <td>0.142857</td>\n",
       "      <td>0.977099</td>\n",
       "    </tr>\n",
       "  </tbody>\n",
       "</table>\n",
       "</div>"
      ],
      "text/plain": [
       "income_LvH            High income  Low income\n",
       "lifeexpectancy_level                         \n",
       "High life expct          0.857143    0.022901\n",
       "Low life expct           0.142857    0.977099"
      ]
     },
     "execution_count": 19,
     "metadata": {},
     "output_type": "execute_result"
    }
   ],
   "source": [
    "# Percentage crosstab.\n",
    "xtab_LvH/xtab_LvH.sum(axis=0)"
   ]
  },
  {
   "cell_type": "code",
   "execution_count": 20,
   "metadata": {
    "collapsed": false
   },
   "outputs": [
    {
     "name": "stdout",
     "output_type": "stream",
     "text": [
      "Chi-squared: 1.16e+02\n",
      "P-value: 6.09e-27\n",
      "P-value ajd: 0.0167\n"
     ]
    }
   ],
   "source": [
    "# Run the chi-square test.\n",
    "x2_LvH = chi2_contingency(xtab_LvH)\n",
    "\n",
    "# Print the results.\n",
    "print(\"Chi-squared: {:.3}\\nP-value: {:.3}\\nP-value ajd: {:.3}\".format(x2_LvH[0], x2_LvH[1], pvalue_adj))"
   ]
  },
  {
   "cell_type": "markdown",
   "metadata": {},
   "source": [
    "As you can see above, the $X^2$ is large, and the `p-value` is below than the `adjusted p-value`. So, we can reject $H_o$ and state that life expectancy does differ significantly between \"Low income\" and \"High income\" countries."
   ]
  },
  {
   "cell_type": "markdown",
   "metadata": {},
   "source": [
    "### 1.5.3 $X^2$ test for \"Medium income\" vs \"High income\""
   ]
  },
  {
   "cell_type": "code",
   "execution_count": 21,
   "metadata": {
    "collapsed": true
   },
   "outputs": [],
   "source": [
    "recode = {'Medium income': 'Medium income', 'High income':'High income'}\n",
    "df['income_MvH'] = df.income_level.map(recode)"
   ]
  },
  {
   "cell_type": "code",
   "execution_count": 22,
   "metadata": {
    "collapsed": false
   },
   "outputs": [
    {
     "data": {
      "text/html": [
       "<div>\n",
       "<table border=\"1\" class=\"dataframe\">\n",
       "  <thead>\n",
       "    <tr style=\"text-align: right;\">\n",
       "      <th>income_MvH</th>\n",
       "      <th>High income</th>\n",
       "      <th>Medium income</th>\n",
       "    </tr>\n",
       "    <tr>\n",
       "      <th>lifeexpectancy_level</th>\n",
       "      <th></th>\n",
       "      <th></th>\n",
       "    </tr>\n",
       "  </thead>\n",
       "  <tbody>\n",
       "    <tr>\n",
       "      <th>High life expct</th>\n",
       "      <td>30</td>\n",
       "      <td>1</td>\n",
       "    </tr>\n",
       "    <tr>\n",
       "      <th>Low life expct</th>\n",
       "      <td>5</td>\n",
       "      <td>8</td>\n",
       "    </tr>\n",
       "  </tbody>\n",
       "</table>\n",
       "</div>"
      ],
      "text/plain": [
       "income_MvH            High income  Medium income\n",
       "lifeexpectancy_level                            \n",
       "High life expct                30              1\n",
       "Low life expct                  5              8"
      ]
     },
     "execution_count": 22,
     "metadata": {},
     "output_type": "execute_result"
    }
   ],
   "source": [
    "# Crosstab.\n",
    "xtab_MvH = pd.crosstab(df.lifeexpectancy_level, df.income_MvH)\n",
    "xtab_MvH"
   ]
  },
  {
   "cell_type": "code",
   "execution_count": 23,
   "metadata": {
    "collapsed": false,
    "scrolled": true
   },
   "outputs": [
    {
     "data": {
      "text/html": [
       "<div>\n",
       "<table border=\"1\" class=\"dataframe\">\n",
       "  <thead>\n",
       "    <tr style=\"text-align: right;\">\n",
       "      <th>income_MvH</th>\n",
       "      <th>High income</th>\n",
       "      <th>Medium income</th>\n",
       "    </tr>\n",
       "    <tr>\n",
       "      <th>lifeexpectancy_level</th>\n",
       "      <th></th>\n",
       "      <th></th>\n",
       "    </tr>\n",
       "  </thead>\n",
       "  <tbody>\n",
       "    <tr>\n",
       "      <th>High life expct</th>\n",
       "      <td>0.857143</td>\n",
       "      <td>0.111111</td>\n",
       "    </tr>\n",
       "    <tr>\n",
       "      <th>Low life expct</th>\n",
       "      <td>0.142857</td>\n",
       "      <td>0.888889</td>\n",
       "    </tr>\n",
       "  </tbody>\n",
       "</table>\n",
       "</div>"
      ],
      "text/plain": [
       "income_MvH            High income  Medium income\n",
       "lifeexpectancy_level                            \n",
       "High life expct          0.857143       0.111111\n",
       "Low life expct           0.142857       0.888889"
      ]
     },
     "execution_count": 23,
     "metadata": {},
     "output_type": "execute_result"
    }
   ],
   "source": [
    "# Percentage crosstab.\n",
    "xtab_MvH/xtab_MvH.sum(axis=0)"
   ]
  },
  {
   "cell_type": "code",
   "execution_count": 24,
   "metadata": {
    "collapsed": false
   },
   "outputs": [
    {
     "name": "stdout",
     "output_type": "stream",
     "text": [
      "Chi-squared: 15.7\n",
      "P-value: 7.32e-05\n",
      "P-value ajd: 0.0167\n"
     ]
    }
   ],
   "source": [
    "# Run the chi-square test.\n",
    "x2_MvH = chi2_contingency(xtab_MvH)\n",
    "\n",
    "# Print the results.\n",
    "print(\"Chi-squared: {:.3}\\nP-value: {:.3}\\nP-value ajd: {:.3}\".format(x2_MvH[0], x2_MvH[1], pvalue_adj))"
   ]
  },
  {
   "cell_type": "markdown",
   "metadata": {},
   "source": [
    "As you can see above, the $X^2$ is large, and the `p-value` is below than the `adjusted p-value`. So, we can reject $H_o$ and state that life expectancy does differ significantly between \"Medium income\" and \"High income\" countries."
   ]
  },
  {
   "cell_type": "markdown",
   "metadata": {},
   "source": [
    "## 1.6 Conclusion"
   ]
  },
  {
   "cell_type": "markdown",
   "metadata": {},
   "source": [
    "By the $X^2$ tests conducted above, the life expectancy is dependent of the income per person. Countries with high income per person benefit from a longer life expectancy when compared to countries with low and medium income per person. There is no difference in life expectancy between countries with low and medium income per person."
   ]
  },
  {
   "cell_type": "markdown",
   "metadata": {},
   "source": [
    "End of assignment."
   ]
  }
 ],
 "metadata": {
  "kernelspec": {
   "display_name": "Python 3",
   "language": "python",
   "name": "python3"
  },
  "language_info": {
   "codemirror_mode": {
    "name": "ipython",
    "version": 3
   },
   "file_extension": ".py",
   "mimetype": "text/x-python",
   "name": "python",
   "nbconvert_exporter": "python",
   "pygments_lexer": "ipython3",
   "version": "3.4.3"
  }
 },
 "nbformat": 4,
 "nbformat_minor": 0
}
