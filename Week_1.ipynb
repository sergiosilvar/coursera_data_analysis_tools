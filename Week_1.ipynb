{
 "cells": [
  {
   "cell_type": "markdown",
   "metadata": {},
   "source": [
    "# Week 1 Assignment: Running an analysis of variance\n",
    "\n",
    "In this [assignment](https://www.coursera.org/learn/data-analysis-tools/peer/nhp1Q/running-an-analysis-of-variance) I've chosen the [Gapminder](./data/gapminder.csv) dataset. Looking through its [codebook](./data/GapMinderCodebook.pdf) we've decided to study two variables, incomeperperson and lifeexpectancy:\n",
    "\n",
    "\n",
    "- incomeperperson\n",
    "\n",
    "> 2010 Gross Domestic Product per capita in constant 2000 US$. The World Bank Work Development inflation but not the differences in the cost of living between countries Indicators\n",
    "has been taken into account.\n",
    "\n",
    "\n",
    "\n",
    "- lifeexpectancy\n",
    "\n",
    "> 2011 life expectancy at birth (years). The average number of years a newborn child would live if current mortality patterns were to stay the same.\n",
    "\n",
    "We'll be studying the relationship between the income and life expectancy. To fulfil the assignment requirements, we'll transformate the numeric variable `incomeperperson` into categorical using the [US poverty threshold](http://www.irp.wisc.edu/faqs/faq1.htm) as a guideline to divide this variable up in three values: countries wich income per capita is less than 40% of this threshold (not included) will be classified as **low income**, those between 40% (included) and the thresold (not included) will be classified as **medium income**, and those equal or above will be **high income**.\n",
    "\n",
    "The null hypothesis $H_o$ is that the life expectancy between the countries with low, medium and high income are the same, or in other words, income is not a drive for life expectancy. The alternative $H_a$ hypothesis is that life expectancy between the classified countries are not the same.\n",
    "\n"
   ]
  },
  {
   "cell_type": "code",
   "execution_count": 87,
   "metadata": {
    "collapsed": false
   },
   "outputs": [
    {
     "name": "stdout",
     "output_type": "stream",
     "text": [
      "Populating the interactive namespace from numpy and matplotlib\n"
     ]
    },
    {
     "name": "stderr",
     "output_type": "stream",
     "text": [
      "/Users/sergio/anaconda3/lib/python3.4/site-packages/IPython/kernel/__main__.py:24: FutureWarning: convert_objects is deprecated.  Use the data-type specific converters pd.to_datetime, pd.to_timedelta and pd.to_numeric.\n"
     ]
    }
   ],
   "source": [
    "# Import all ploting and scientific library,\n",
    "# and embed figures in this file.\n",
    "%pylab inline\n",
    "\n",
    "# Package to manipulate dataframes.\n",
    "import pandas as pd\n",
    "\n",
    "# Nice looking plot functions.\n",
    "import seaborn as sn\n",
    "\n",
    "# Read the dataset.\n",
    "df = pd.read_csv('data/gapminder.csv')\n",
    "\n",
    "# Set the country name as the index of the dataframe.\n",
    "df.index = df.country\n",
    "\n",
    "# This column is no longer needed.\n",
    "#del df['country']\n",
    "\n",
    "# Select only the variables we're interested.\n",
    "df = df[['incomeperperson','lifeexpectancy']]\n",
    "\n",
    "# Convert the types properly.\n",
    "df = df.convert_objects(convert_numeric=True)\n",
    "\n",
    "# Remove missing values.\n",
    "df = df.dropna()\n",
    "\n",
    "\n"
   ]
  },
  {
   "cell_type": "markdown",
   "metadata": {},
   "source": [
    "## Descriptive analysis\n",
    "\n",
    "Let's take a look at the variables."
   ]
  },
  {
   "cell_type": "code",
   "execution_count": 88,
   "metadata": {
    "collapsed": false
   },
   "outputs": [
    {
     "data": {
      "text/html": [
       "<div>\n",
       "<table border=\"1\" class=\"dataframe\">\n",
       "  <thead>\n",
       "    <tr style=\"text-align: right;\">\n",
       "      <th></th>\n",
       "      <th>incomeperperson</th>\n",
       "      <th>lifeexpectancy</th>\n",
       "    </tr>\n",
       "  </thead>\n",
       "  <tbody>\n",
       "    <tr>\n",
       "      <th>count</th>\n",
       "      <td>176.000000</td>\n",
       "      <td>176.000000</td>\n",
       "    </tr>\n",
       "    <tr>\n",
       "      <th>mean</th>\n",
       "      <td>7327.444414</td>\n",
       "      <td>69.654733</td>\n",
       "    </tr>\n",
       "    <tr>\n",
       "      <th>std</th>\n",
       "      <td>10567.304022</td>\n",
       "      <td>9.729521</td>\n",
       "    </tr>\n",
       "    <tr>\n",
       "      <th>min</th>\n",
       "      <td>103.775857</td>\n",
       "      <td>47.794000</td>\n",
       "    </tr>\n",
       "    <tr>\n",
       "      <th>25%</th>\n",
       "      <td>702.366463</td>\n",
       "      <td>63.041500</td>\n",
       "    </tr>\n",
       "    <tr>\n",
       "      <th>50%</th>\n",
       "      <td>2385.184105</td>\n",
       "      <td>73.126500</td>\n",
       "    </tr>\n",
       "    <tr>\n",
       "      <th>75%</th>\n",
       "      <td>8497.779228</td>\n",
       "      <td>76.569500</td>\n",
       "    </tr>\n",
       "    <tr>\n",
       "      <th>max</th>\n",
       "      <td>52301.587179</td>\n",
       "      <td>83.394000</td>\n",
       "    </tr>\n",
       "  </tbody>\n",
       "</table>\n",
       "</div>"
      ],
      "text/plain": [
       "       incomeperperson  lifeexpectancy\n",
       "count       176.000000      176.000000\n",
       "mean       7327.444414       69.654733\n",
       "std       10567.304022        9.729521\n",
       "min         103.775857       47.794000\n",
       "25%         702.366463       63.041500\n",
       "50%        2385.184105       73.126500\n",
       "75%        8497.779228       76.569500\n",
       "max       52301.587179       83.394000"
      ]
     },
     "execution_count": 88,
     "metadata": {},
     "output_type": "execute_result"
    }
   ],
   "source": [
    "df.describe()"
   ]
  },
  {
   "cell_type": "markdown",
   "metadata": {},
   "source": [
    "## Create the categorical variable\n",
    "\n",
    "We'll create the categorical variable `income_level` based on the `incomeperperson` and the USA poverty threshold."
   ]
  },
  {
   "cell_type": "code",
   "execution_count": 89,
   "metadata": {
    "collapsed": true
   },
   "outputs": [],
   "source": [
    "# http://www.irp.wisc.edu/faqs/faq1.htm\n",
    "income_threshold= 11720\n",
    "income_level = pd.cut(df.incomeperperson, \n",
    "    [0, income_threshold*0.4, income_threshold, 110000 ], \n",
    "    labels=['Low income', 'Medium income', 'High income'])\n"
   ]
  },
  {
   "cell_type": "raw",
   "metadata": {
    "collapsed": false
   },
   "source": [
    "# http://www.irp.wisc.edu/faqs/faq1.htm\n",
    "income_threshold= 11720\n",
    "income_level = pd.cut(df.incomeperperson, \n",
    "    [0, income_threshold, 110000 ], \n",
    "    labels=['Low income', 'High income'])\n"
   ]
  },
  {
   "cell_type": "markdown",
   "metadata": {},
   "source": [
    "Looking at the distribution of countries by the new categorical variable `income_level` in the graph below, the majority of them take low income per capita, followed by high income and medium income."
   ]
  },
  {
   "cell_type": "code",
   "execution_count": 120,
   "metadata": {
    "collapsed": false
   },
   "outputs": [
    {
     "data": {
      "image/png": "[encoded data removed]",
      "text/plain": [
       "<matplotlib.figure.Figure at 0x10d485f28>"
      ]
     },
     "metadata": {},
     "output_type": "display_data"
    }
   ],
   "source": [
    "il = income_level.value_counts()\n",
    "f, a = subplots()\n",
    "f.set_size_inches(6,3)\n",
    "sn.barplot(il.values, il.index.tolist(), ax=a);\n",
    "\n",
    "a.set_title('Number of countries by income_level', fontsize=14);\n",
    "yticks(fontsize=12),xticks(fontsize=12);"
   ]
  },
  {
   "cell_type": "markdown",
   "metadata": {},
   "source": [
    "Let's save the `income_level` variable in our data frame. We must explicitly convert it to `object` because of an actual misunderstanding betwen `pandas` and `stastmodels` packages."
   ]
  },
  {
   "cell_type": "code",
   "execution_count": 121,
   "metadata": {
    "collapsed": false
   },
   "outputs": [],
   "source": [
    "import numpy as np\n",
    "df['income_level'] = income_level.astype(np.object)"
   ]
  },
  {
   "cell_type": "markdown",
   "metadata": {},
   "source": [
    "Let's take a look at the population means by the `income_level` categories. The table and graph below show that the life expectancy means are diferent among the countries income levels, as our alternative hyphothesis $H_a$ states."
   ]
  },
  {
   "cell_type": "code",
   "execution_count": 137,
   "metadata": {
    "collapsed": false
   },
   "outputs": [
    {
     "data": {
      "text/html": [
       "<div>\n",
       "<table border=\"1\" class=\"dataframe\">\n",
       "  <thead>\n",
       "    <tr style=\"text-align: right;\">\n",
       "      <th></th>\n",
       "      <th>incomeperperson</th>\n",
       "      <th>lifeexpectancy</th>\n",
       "    </tr>\n",
       "    <tr>\n",
       "      <th>income_level</th>\n",
       "      <th></th>\n",
       "      <th></th>\n",
       "    </tr>\n",
       "  </thead>\n",
       "  <tbody>\n",
       "    <tr>\n",
       "      <th>High income</th>\n",
       "      <td>25730.523512</td>\n",
       "      <td>80.185000</td>\n",
       "    </tr>\n",
       "    <tr>\n",
       "      <th>Low income</th>\n",
       "      <td>1389.885849</td>\n",
       "      <td>64.937373</td>\n",
       "    </tr>\n",
       "    <tr>\n",
       "      <th>Medium income</th>\n",
       "      <td>7014.797566</td>\n",
       "      <td>74.315400</td>\n",
       "    </tr>\n",
       "  </tbody>\n",
       "</table>\n",
       "</div>"
      ],
      "text/plain": [
       "               incomeperperson  lifeexpectancy\n",
       "income_level                                  \n",
       "High income       25730.523512       80.185000\n",
       "Low income         1389.885849       64.937373\n",
       "Medium income      7014.797566       74.315400"
      ]
     },
     "execution_count": 137,
     "metadata": {},
     "output_type": "execute_result"
    }
   ],
   "source": [
    "g = df.groupby('income_level')\n",
    "income_mean = g.mean()\n",
    "income_mean"
   ]
  },
  {
   "cell_type": "code",
   "execution_count": 138,
   "metadata": {
    "collapsed": false
   },
   "outputs": [
    {
     "data": {
      "text/plain": [
       "(array([0, 1, 2]), <a list of 3 Text xticklabel objects>)"
      ]
     },
     "execution_count": 138,
     "metadata": {},
     "output_type": "execute_result"
    },
    {
     "data": {
      "image/png": "[encoded data removed]",
      "text/plain": [
       "<matplotlib.figure.Figure at 0x10e83e2e8>"
      ]
     },
     "metadata": {},
     "output_type": "display_data"
    }
   ],
   "source": [
    "sn.boxplot(df.income_level, df.lifeexpectancy);\n",
    "title('Life expectancy by income level groups', fontsize=14, fontweight='bold');\n",
    "xticks(fontsize=12)"
   ]
  },
  {
   "cell_type": "markdown",
   "metadata": {},
   "source": [
    "In the next session, we'll see whether $H_o$ can be rejected or not."
   ]
  },
  {
   "cell_type": "markdown",
   "metadata": {},
   "source": [
    "## Calculate the F statistic\n",
    "\n",
    "The F value calculated below shows the variability between the three groups is 64 times greater than the variability within groups. The p-value $1.02*10^{-21}$ is far below 0.05, thus we can reject $H_o$ and select $H_a$: life expectancy varies across income per capita."
   ]
  },
  {
   "cell_type": "code",
   "execution_count": 139,
   "metadata": {
    "collapsed": false
   },
   "outputs": [
    {
     "data": {
      "text/html": [
       "<table class=\"simpletable\">\n",
       "<caption>OLS Regression Results</caption>\n",
       "<tr>\n",
       "  <th>Dep. Variable:</th>     <td>lifeexpectancy</td>  <th>  R-squared:         </th> <td>   0.428</td>\n",
       "</tr>\n",
       "<tr>\n",
       "  <th>Model:</th>                   <td>OLS</td>       <th>  Adj. R-squared:    </th> <td>   0.421</td>\n",
       "</tr>\n",
       "<tr>\n",
       "  <th>Method:</th>             <td>Least Squares</td>  <th>  F-statistic:       </th> <td>   64.74</td>\n",
       "</tr>\n",
       "<tr>\n",
       "  <th>Date:</th>             <td>Sun, 08 Nov 2015</td> <th>  Prob (F-statistic):</th> <td>1.02e-21</td>\n",
       "</tr>\n",
       "<tr>\n",
       "  <th>Time:</th>                 <td>09:47:51</td>     <th>  Log-Likelihood:    </th> <td> -600.49</td>\n",
       "</tr>\n",
       "<tr>\n",
       "  <th>No. Observations:</th>      <td>   176</td>      <th>  AIC:               </th> <td>   1207.</td>\n",
       "</tr>\n",
       "<tr>\n",
       "  <th>Df Residuals:</th>          <td>   173</td>      <th>  BIC:               </th> <td>   1216.</td>\n",
       "</tr>\n",
       "<tr>\n",
       "  <th>Df Model:</th>              <td>     2</td>      <th>                     </th>     <td> </td>   \n",
       "</tr>\n",
       "<tr>\n",
       "  <th>Covariance Type:</th>      <td>nonrobust</td>    <th>                     </th>     <td> </td>   \n",
       "</tr>\n",
       "</table>\n",
       "<table class=\"simpletable\">\n",
       "<tr>\n",
       "                  <td></td>                    <th>coef</th>     <th>std err</th>      <th>t</th>      <th>P>|t|</th> <th>[95.0% Conf. Int.]</th> \n",
       "</tr>\n",
       "<tr>\n",
       "  <th>Intercept</th>                        <td>   80.1850</td> <td>    1.233</td> <td>   65.011</td> <td> 0.000</td> <td>   77.751    82.619</td>\n",
       "</tr>\n",
       "<tr>\n",
       "  <th>C(income_level)[T.Low income]</th>    <td>  -15.2476</td> <td>    1.421</td> <td>  -10.730</td> <td> 0.000</td> <td>  -18.052   -12.443</td>\n",
       "</tr>\n",
       "<tr>\n",
       "  <th>C(income_level)[T.Medium income]</th> <td>   -5.8696</td> <td>    1.829</td> <td>   -3.208</td> <td> 0.002</td> <td>   -9.481    -2.259</td>\n",
       "</tr>\n",
       "</table>\n",
       "<table class=\"simpletable\">\n",
       "<tr>\n",
       "  <th>Omnibus:</th>       <td>13.620</td> <th>  Durbin-Watson:     </th> <td>   1.982</td>\n",
       "</tr>\n",
       "<tr>\n",
       "  <th>Prob(Omnibus):</th> <td> 0.001</td> <th>  Jarque-Bera (JB):  </th> <td>  14.847</td>\n",
       "</tr>\n",
       "<tr>\n",
       "  <th>Skew:</th>          <td>-0.708</td> <th>  Prob(JB):          </th> <td>0.000597</td>\n",
       "</tr>\n",
       "<tr>\n",
       "  <th>Kurtosis:</th>      <td> 3.135</td> <th>  Cond. No.          </th> <td>    5.10</td>\n",
       "</tr>\n",
       "</table>"
      ],
      "text/plain": [
       "<class 'statsmodels.iolib.summary.Summary'>\n",
       "\"\"\"\n",
       "                            OLS Regression Results                            \n",
       "==============================================================================\n",
       "Dep. Variable:         lifeexpectancy   R-squared:                       0.428\n",
       "Model:                            OLS   Adj. R-squared:                  0.421\n",
       "Method:                 Least Squares   F-statistic:                     64.74\n",
       "Date:                Sun, 08 Nov 2015   Prob (F-statistic):           1.02e-21\n",
       "Time:                        09:47:51   Log-Likelihood:                -600.49\n",
       "No. Observations:                 176   AIC:                             1207.\n",
       "Df Residuals:                     173   BIC:                             1216.\n",
       "Df Model:                           2                                         \n",
       "Covariance Type:            nonrobust                                         \n",
       "====================================================================================================\n",
       "                                       coef    std err          t      P>|t|      [95.0% Conf. Int.]\n",
       "----------------------------------------------------------------------------------------------------\n",
       "Intercept                           80.1850      1.233     65.011      0.000        77.751    82.619\n",
       "C(income_level)[T.Low income]      -15.2476      1.421    -10.730      0.000       -18.052   -12.443\n",
       "C(income_level)[T.Medium income]    -5.8696      1.829     -3.208      0.002        -9.481    -2.259\n",
       "==============================================================================\n",
       "Omnibus:                       13.620   Durbin-Watson:                   1.982\n",
       "Prob(Omnibus):                  0.001   Jarque-Bera (JB):               14.847\n",
       "Skew:                          -0.708   Prob(JB):                     0.000597\n",
       "Kurtosis:                       3.135   Cond. No.                         5.10\n",
       "==============================================================================\n",
       "\n",
       "Warnings:\n",
       "[1] Standard Errors assume that the covariance matrix of the errors is correctly specified.\n",
       "\"\"\""
      ]
     },
     "execution_count": 139,
     "metadata": {},
     "output_type": "execute_result"
    }
   ],
   "source": [
    "import statsmodels.formula.api as smf\n",
    "import statsmodels.stats.multicomp as multi \n",
    "model = smf.ols('lifeexpectancy ~ C(income_level)', df)\n",
    "result = model.fit()\n",
    "result.summary()"
   ]
  },
  {
   "cell_type": "markdown",
   "metadata": {},
   "source": [
    "## Post hoc test\n",
    "\n",
    "Finally, we'll conduct a post hoc test to see wich group of income level is diferent from the others. By the table below we can reject the equality between all pairwise comparison. So, <b>the life expectancy mean are diferent among income_level groups<b>."
   ]
  },
  {
   "cell_type": "code",
   "execution_count": 140,
   "metadata": {
    "collapsed": false,
    "scrolled": false
   },
   "outputs": [
    {
     "name": "stdout",
     "output_type": "stream",
     "text": [
      "     Multiple Comparison of Means - Tukey HSD,FWER=0.05    \n",
      "===========================================================\n",
      "   group1       group2    meandiff  lower    upper   reject\n",
      "-----------------------------------------------------------\n",
      "High income   Low income  -15.2476 -18.6072 -11.8881  True \n",
      "High income Medium income -5.8696  -10.1948 -1.5444   True \n",
      " Low income Medium income  9.378    5.7743  12.9818   True \n",
      "-----------------------------------------------------------\n"
     ]
    }
   ],
   "source": [
    "res = multi.pairwise_tukeyhsd(df.lifeexpectancy, df.income_level)\n",
    "print(res.summary())\n"
   ]
  },
  {
   "cell_type": "markdown",
   "metadata": {},
   "source": [
    "## Conclusion"
   ]
  },
  {
   "cell_type": "markdown",
   "metadata": {},
   "source": [
    "By the F statistic and post hoc test above, we can say that the incompe per capita is related to life expectancy. Remembering that this income variable is the ratio of Gross Domestic Prodcut by population, the more productive and economic developed a country is, the more its citizens can live."
   ]
  }
 ],
 "metadata": {
  "kernelspec": {
   "display_name": "Python 3",
   "language": "python",
   "name": "python3"
  },
  "language_info": {
   "codemirror_mode": {
    "name": "ipython",
    "version": 3
   },
   "file_extension": ".py",
   "mimetype": "text/x-python",
   "name": "python",
   "nbconvert_exporter": "python",
   "pygments_lexer": "ipython3",
   "version": "3.4.3"
  }
 },
 "nbformat": 4,
 "nbformat_minor": 0
}
