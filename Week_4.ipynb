{
 "cells": [
  {
   "cell_type": "markdown",
   "metadata": {},
   "source": [
    "#Table of Contents\n",
    "* [1. Week 4 Assignment: Generating a Correlation Coefficient](#1.-Week-4-Assignment:-Generating-a-Correlation-Coefficient)\n",
    "\t* [1.1 Subset the dataset into the moderate variable levels](#1.1-Subset-the-dataset-into-the-moderate-variable-levels)\n",
    "\t* [1.2 Pearson correlation $r$](#1.2-Pearson-correlation-$r$)\n",
    "\t* [1.3 Conclusion](#1.3-Conclusion)\n"
   ]
  },
  {
   "cell_type": "markdown",
   "metadata": {},
   "source": [
    "# 1. Week 4 Assignment: Generating a Correlation Coefficient"
   ]
  },
  {
   "cell_type": "markdown",
   "metadata": {},
   "source": [
    "In this [assignment](https://www.coursera.org/learn/data-analysis-tools/peer/3bv5A/testing-a-potential-moderator) I've chosen the [Gapminder](./data/gapminder.csv) dataset. Looking through its [codebook](./data/GapMinderCodebook.pdf) we've decided to study the relationship of the numeric variables `incomeperperson` and `lifeexpectancy` taking into account the numeric variable `urbanrate` as a potential moderator:\n",
    "\n",
    "\n",
    "- incomeperperson\n",
    "\n",
    "> 2010 Gross Domestic Product per capita in constant 2000 US$. The World Bank Work Development inflation but not the differences in the cost of living between countries Indicators\n",
    "has been taken into account.\n",
    "\n",
    "\n",
    "\n",
    "- lifeexpectancy\n",
    "\n",
    "> 2011 life expectancy at birth (years). The average number of years a newborn child would live if current mortality patterns were to stay the same.\n",
    "\n",
    "\n",
    "- urbanrate (potential moderator)\n",
    "\n",
    ">2008 urban population (% of total). Urban population refers to people living in urban areas as defined by\n",
    "national statistical offices (calculated using World Bank population estimates and urban ratios from the United Nations World Urbanization Prospects)."
   ]
  },
  {
   "cell_type": "code",
   "execution_count": 3,
   "metadata": {
    "collapsed": false
   },
   "outputs": [
    {
     "name": "stdout",
     "output_type": "stream",
     "text": [
      "Populating the interactive namespace from numpy and matplotlib\n"
     ]
    }
   ],
   "source": [
    "# Import all ploting and scientific library,\n",
    "# and embed figures in this file.\n",
    "%pylab inline\n",
    "\n",
    "# Package to manipulate dataframes.\n",
    "import pandas as pd\n",
    "\n",
    "# Nice looking plot functions.\n",
    "import seaborn as sn\n",
    "\n",
    "# The Pearson correlation function.\n",
    "from scipy.stats import pearsonr\n",
    "\n",
    "# Read the dataset.\n",
    "df = pd.read_csv('data/gapminder.csv')\n",
    "\n",
    "# Set the country name as the index of the dataframe.\n",
    "df.index = df.country\n",
    "\n",
    "# This column is no longer needed.\n",
    "del df['country']\n",
    "\n",
    "# Select only the variables we're interested.\n",
    "df = df[['lifeexpectancy','incomeperperson', 'urbanrate']]\n",
    "\n",
    "# Convert the types.\n",
    "df.lifeexpectancy = pd.to_numeric(df.lifeexpectancy, errors='coerce')\n",
    "df.incomeperperson = pd.to_numeric(df.incomeperperson, errors='coerce')\n",
    "df.urbanrate = pd.to_numeric(df.urbanrate, errors='coerce')\n",
    "\n",
    "# Remove missing values.\n",
    "df = df.dropna()\n"
   ]
  },
  {
   "cell_type": "markdown",
   "metadata": {},
   "source": [
    "## 1.1 Subset the dataset into the moderate variable levels"
   ]
  },
  {
   "cell_type": "markdown",
   "metadata": {},
   "source": [
    "In order to verifify whether the moderator variabel, `urbanrate`, plays a role into the interaction between `incomeperperon` and `lifeexpectancy`, we'll subset our dataset into two groups: onde group for countries below 50% of urbanrate population, and the other group with countries equal or above 50% of urbanrate population."
   ]
  },
  {
   "cell_type": "code",
   "execution_count": 6,
   "metadata": {
    "collapsed": false
   },
   "outputs": [],
   "source": [
    "# Dataset with low urban rate.\n",
    "df_low = df[df.urbanrate < 50]\n",
    "\n",
    "# Dataset with high urban rate.\n",
    "df_high = df[df.urbanrate >= 50]"
   ]
  },
  {
   "cell_type": "markdown",
   "metadata": {},
   "source": [
    "## 1.2 Pearson correlation $r$"
   ]
  },
  {
   "cell_type": "markdown",
   "metadata": {},
   "source": [
    "For each subset, we'll conduct the Pearson correlation analysis and verify the results."
   ]
  },
  {
   "cell_type": "code",
   "execution_count": 7,
   "metadata": {
    "collapsed": false
   },
   "outputs": [],
   "source": [
    "r_low = pearsonr(df_low.incomeperperson, df_low.lifeexpectancy)\n",
    "r_high = pearsonr(df_high.incomeperperson, df_high.lifeexpectancy)"
   ]
  },
  {
   "cell_type": "code",
   "execution_count": 10,
   "metadata": {
    "collapsed": false
   },
   "outputs": [
    {
     "name": "stdout",
     "output_type": "stream",
     "text": [
      "Correlation in LOW urban rate: (0.46386851310251936, 4.061864446508275e-05)\n"
     ]
    }
   ],
   "source": [
    "print('Correlation in LOW urban rate: {}'.format(r_low))"
   ]
  },
  {
   "cell_type": "code",
   "execution_count": 11,
   "metadata": {
    "collapsed": false
   },
   "outputs": [
    {
     "name": "stdout",
     "output_type": "stream",
     "text": [
      "Correlation in HIGH urban rate: (0.62279808470824838, 1.6773499774746408e-12)\n"
     ]
    }
   ],
   "source": [
    "print('Correlation in HIGH urban rate: {}'.format(r_high))"
   ]
  },
  {
   "cell_type": "code",
   "execution_count": 13,
   "metadata": {
    "collapsed": false
   },
   "outputs": [
    {
     "name": "stdout",
     "output_type": "stream",
     "text": [
      "Percentage of variability LOW urban rate: 21.52%\n"
     ]
    }
   ],
   "source": [
    "print('Percentage of variability LOW urban rate: {:2}%'.\n",
    "      format(round(r_low[0]**2*100,2)))"
   ]
  },
  {
   "cell_type": "code",
   "execution_count": 15,
   "metadata": {
    "collapsed": false
   },
   "outputs": [
    {
     "name": "stdout",
     "output_type": "stream",
     "text": [
      "Percentage of variability HIGH urban rate: 38.79%\n"
     ]
    }
   ],
   "source": [
    "print('Percentage of variability HIGH urban rate: {:2}%'.\n",
    "      format(round(r_high[0]**2*100,2)))"
   ]
  },
  {
   "cell_type": "code",
   "execution_count": 34,
   "metadata": {
    "collapsed": false
   },
   "outputs": [
    {
     "data": {
      "image/png": "[encoded data removed]",
      "text/plain": [
       "<matplotlib.figure.Figure at 0x10b0fc080>"
      ]
     },
     "metadata": {},
     "output_type": "display_data"
    }
   ],
   "source": [
    "# Silent matplotlib warning. \n",
    "import warnings\n",
    "warnings.filterwarnings('ignore',category=FutureWarning)\n",
    "\n",
    "# Setting an apropriate size for the graph.\n",
    "f,a = subplots(1, 2)\n",
    "f.set_size_inches(12,6)\n",
    "\n",
    "# Plot the graph.\n",
    "sn.regplot(df_low.incomeperperson, df_low.lifeexpectancy, ax=a[0]);\n",
    "a[0].set_title('Countries with LOW urbanrate', fontweight='bold');\n",
    "sn.regplot(df_high.incomeperperson, df_high.lifeexpectancy, ax=a[1]);\n",
    "a[1].set_title('Countries with HIGH urbanrate', fontweight='bold');\n"
   ]
  },
  {
   "cell_type": "markdown",
   "metadata": {},
   "source": [
    "## 1.3 Conclusion"
   ]
  },
  {
   "cell_type": "markdown",
   "metadata": {},
   "source": [
    "As we can see above, the correlation in countries with high urban rate, `urbanrate` $\\ge 50\\%$, is higher than in countries with low urban rate, and in both cases the $pvalue$ is significan. So, we can say the variable `urbanrate` moderates the relationship between `lifeexpectancy` and `incomeperperson`. "
   ]
  },
  {
   "cell_type": "markdown",
   "metadata": {},
   "source": [
    "End of assignment."
   ]
  }
 ],
 "metadata": {
  "kernelspec": {
   "display_name": "Python 3",
   "language": "python",
   "name": "python3"
  },
  "language_info": {
   "codemirror_mode": {
    "name": "ipython",
    "version": 3
   },
   "file_extension": ".py",
   "mimetype": "text/x-python",
   "name": "python",
   "nbconvert_exporter": "python",
   "pygments_lexer": "ipython3",
   "version": "3.4.3"
  }
 },
 "nbformat": 4,
 "nbformat_minor": 0
}
